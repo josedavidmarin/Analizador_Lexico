{
  "cells": [
    {
      "cell_type": "markdown",
      "metadata": {
        "id": "view-in-github",
        "colab_type": "text"
      },
      "source": [
        "<a href=\"https://colab.research.google.com/github/josedavidmarin/Analizador_Lexico/blob/main/Nota2.ipynb\" target=\"_parent\"><img src=\"https://colab.research.google.com/assets/colab-badge.svg\" alt=\"Open In Colab\"/></a>"
      ]
    },
    {
      "cell_type": "markdown",
      "id": "aecb95ff",
      "metadata": {
        "id": "aecb95ff"
      },
      "source": [
        "# Evaluación: Análisis Sintáctico en Compiladores\n",
        "**Fecha:** 2025-05-09\n",
        "\n",
        "---"
      ]
    },
    {
      "cell_type": "markdown",
      "source": [],
      "metadata": {
        "id": "8e6keydWdGxE"
      },
      "id": "8e6keydWdGxE"
    },
    {
      "cell_type": "markdown",
      "id": "4e5bd3be",
      "metadata": {
        "id": "4e5bd3be"
      },
      "source": [
        "## Tema 1: Gramáticas Libres del Contexto\n",
        "\n",
        "**1.1.** Defina qué es una gramática libre del contexto (GLC) y explique cómo se diferencia de una gramática regular.\n",
        "\n",
        "\n",
        "\n",
        "**1.2.** Dada la siguiente gramática:\n",
        "```\n",
        "S → aSb | ε\n",
        "```\n",
        "a) ¿Qué lenguaje genera?\n",
        "\n",
        "b) ¿Es ambigua? Justifique.\n",
        "\n",
        "c) Escriba una derivación izquierda y una derivación derecha para la cadena `aabb`.\n",
        "\n",
        "**1.3.** Diseñe una GLC que genere el lenguaje de todas las cadenas de paréntesis correctamente balanceadas, como `(()())`.\n"
      ]
    },
    {
      "cell_type": "markdown",
      "id": "1c56be80",
      "metadata": {
        "id": "1c56be80"
      },
      "source": [
        "## Tema 2: Análisis Descendente - LL(k), FIRST y FOLLOW\n",
        "\n",
        "**2.1.** Explique en qué consiste un analizador LL(k). ¿Por qué el análisis LL(1) es tan popular en la práctica?\n",
        "\n",
        "**2.2.** Dada la gramática:\n",
        "```\n",
        "E → T E'\n",
        "E' → + T E' | ε\n",
        "T → F T'\n",
        "T' → * F T' | ε\n",
        "F → ( E ) | id\n",
        "```\n",
        "a) Calcule los conjuntos **FIRST** y **FOLLOW** para cada no terminal.\n",
        "\n",
        "b) Construya la tabla LL(1).\n",
        "\n",
        "c) ¿La gramática es LL(1)? Justifique.\n"
      ]
    },
    {
      "cell_type": "markdown",
      "id": "5a8cc99a",
      "metadata": {
        "id": "5a8cc99a"
      },
      "source": [
        "## Tema 3: Análisis Ascendente - LR(0), SLR, LR(1), LALR(1)\n",
        "\n",
        "**3.1.** Explique brevemente la diferencia entre los siguientes analizadores:\n",
        "\n",
        "a) LR(0)\n",
        "\n",
        "b) SLR\n",
        "\n",
        "c) LR(1)\n",
        "\n",
        "d) LALR(1)\n",
        "\n",
        "Indique qué ventajas y desventajas tiene cada uno.\n",
        "\n",
        "**3.2.** Para la siguiente gramática:\n",
        "```\n",
        "S → L = R | R\n",
        "L → * R | id\n",
        "R → L\n",
        "```\n",
        "a) Construya el conjunto de **items LR(0)**.\n",
        "\n",
        "b) Construya el autómata LR(0) de estados.\n",
        "\n",
        "c) Indique si hay conflictos shift/reduce o reduce/reduce en la tabla LR(0).\n",
        "\n",
        "**3.3.** Explique qué problema resuelve el enfoque LALR(1) y cómo se construyen sus tablas a partir de las de LR(1).\n"
      ]
    }
  ],
  "metadata": {
    "colab": {
      "provenance": [],
      "include_colab_link": true
    }
  },
  "nbformat": 4,
  "nbformat_minor": 5
}